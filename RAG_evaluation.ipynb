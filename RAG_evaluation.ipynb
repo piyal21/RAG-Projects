{
 "cells": [
  {
   "cell_type": "markdown",
   "id": "791222f1",
   "metadata": {},
   "source": [
    "* Rag Evaluation \n"
   ]
  },
  {
   "cell_type": "code",
   "execution_count": null,
   "id": "facd7534",
   "metadata": {},
   "outputs": [],
   "source": [
    "from test import retrieve_similar_chunks"
   ]
  },
  {
   "cell_type": "markdown",
   "id": "e12d4933",
   "metadata": {},
   "source": [
    "* Used Cosine similarity to Find the releance between the query and retrieved chunks. "
   ]
  },
  {
   "cell_type": "code",
   "execution_count": null,
   "id": "ba7d0eb7",
   "metadata": {},
   "outputs": [],
   "source": [
    "from sklearn.metrics.pairwise import cosine_similarity\n",
    "from langchain.embeddings import OpenAIEmbeddings\n",
    "\n",
    "def evaluate_groundedness(answer, retrieved_chunks):\n",
    "    all_text = \" \".join(retrieved_chunks)\n",
    "    \n",
    "    embeddings = OpenAIEmbeddings(openai_api_key=os.getenv(\"OPENAI_API_KEY\"))\n",
    "    answer_embedding = embeddings.embed_query(answer)\n",
    "    context_embedding = embeddings.embed_query(all_text)\n",
    "\n",
    "    similarity = cosine_similarity([answer_embedding], [context_embedding])[0][0]\n",
    "    return round(similarity, 3)\n"
   ]
  },
  {
   "cell_type": "markdown",
   "id": "d4db828a",
   "metadata": {},
   "source": [
    "* Check the Evaluation [ custom query ]"
   ]
  },
  {
   "cell_type": "code",
   "execution_count": null,
   "id": "d55b92af",
   "metadata": {},
   "outputs": [],
   "source": [
    "user_query = \"বিয়ের সময় কল্যাণীর প্রকৃত বয়স কত ছিল?\"\n",
    "answer = generate_answer(user_query, short_term_memory)\n",
    "top_chunks = retrieve_similar_chunks(user_query)\n",
    "\n",
    "groundedness_score = evaluate_groundedness(answer, top_chunks)\n",
    "\n",
    "print(f\"Answer: {answer}\")\n",
    "print(f\"Groundedness Score: {groundedness_score}\")\n"
   ]
  },
  {
   "cell_type": "code",
   "execution_count": null,
   "id": "7a7e6eff",
   "metadata": {},
   "outputs": [],
   "source": []
  },
  {
   "cell_type": "code",
   "execution_count": null,
   "id": "ba3e7d49",
   "metadata": {},
   "outputs": [],
   "source": []
  }
 ],
 "metadata": {
  "kernelspec": {
   "display_name": "venv",
   "language": "python",
   "name": "python3"
  },
  "language_info": {
   "name": "python",
   "version": "3.12.10"
  }
 },
 "nbformat": 4,
 "nbformat_minor": 5
}
